{
 "cells": [
  {
   "cell_type": "code",
   "execution_count": 33,
   "metadata": {},
   "outputs": [],
   "source": [
    "from kafka import KafkaConsumer, TopicPartition\n",
    "import json\n",
    "from transofrm import TRANSFORMER_LIST\n",
    "from datetime import timedelta, datetime, timezone\n",
    "from dateutil import parser\n",
    "import json\n",
    "import time\n",
    "from influxdb_client import InfluxDBClient, Point, WriteOptions\n",
    "from influxdb_client.client.write_api import SYNCHRONOUS"
   ]
  },
  {
   "cell_type": "code",
   "execution_count": 25,
   "metadata": {},
   "outputs": [],
   "source": [
    "consumer = KafkaConsumer(\n",
    "                        bootstrap_servers = 'rc1a-b5e65f36lm3an1d5.mdb.yandexcloud.net:9091',\n",
    "                        client_id='9433_reader',\n",
    "                        security_protocol='SASL_SSL',\n",
    "                        ssl_cafile='CA.pem',\n",
    "                        retry_backoff_ms=10,\n",
    "                        auto_offset_reset='latest',\n",
    "                        sasl_mechanism='SCRAM-SHA-512',\n",
    "                        sasl_plain_username='9433_reader',\n",
    "                        sasl_plain_password='eUIpgWu0PWTJaTrjhjQD3.hoyhntiK',\n",
    "                        group_id='ЕВРАЗ 2.0 - Поток 7 - Бассейн данных',\n",
    "                        value_deserializer = lambda m: json.loads(m.decode('utf-8')))"
   ]
  },
  {
   "cell_type": "code",
   "execution_count": 27,
   "metadata": {},
   "outputs": [],
   "source": [
    "client = InfluxDBClient(\n",
    "   url=\"http://localhost:8086\",\n",
    "   token=\"3qiRayG1_-FXr2VegUh7eQ5uFGeU65t8pvpCEMsZuswV04TZWjyLUHq4Gie7hIUJYbP6SzWlETrggQlCG1yQ4Q==\",\n",
    "   org=\"kafka-hack\"\n",
    ")\n",
    "writer = client.write_api(write_options=SYNCHRONOUS)"
   ]
  },
  {
   "cell_type": "code",
   "execution_count": null,
   "metadata": {},
   "outputs": [],
   "source": [
    "topic_partition = TopicPartition('zsmk-9433-dev-01', 0)\n",
    "consumer.assign([topic_partition])\n",
    "consumer.seek_to_beginning(topic_partition)\n",
    "for msg in consumer:\n",
    "    print(msg.value['moment'])\n",
    "    point = Point(\"exhauster\")\n",
    "    point.tag(\"exhauster\", \"exhauster\")\n",
    "    point.time(parser.parse(msg.value[\"moment\"]))\n",
    "    for key, value in msg.value.items():\n",
    "        point.field(key, value)\n",
    "    print(point)\n",
    "    writer.write(bucket=\"kafka-alldata\", record=[point])"
   ]
  }
 ],
 "metadata": {
  "kernelspec": {
   "display_name": "Python 3 (ipykernel)",
   "language": "python",
   "name": "python3"
  },
  "language_info": {
   "codemirror_mode": {
    "name": "ipython",
    "version": 3
   },
   "file_extension": ".py",
   "mimetype": "text/x-python",
   "name": "python",
   "nbconvert_exporter": "python",
   "pygments_lexer": "ipython3",
   "version": "3.9.12"
  },
  "vscode": {
   "interpreter": {
    "hash": "5109d816b82be14675a6b11f8e0f0d2e80f029176ed3710d54e125caa8520dfd"
   }
  }
 },
 "nbformat": 4,
 "nbformat_minor": 4
}
